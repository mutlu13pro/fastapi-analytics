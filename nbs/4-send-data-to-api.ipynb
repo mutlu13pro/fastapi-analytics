{
 "cells": [
  {
   "cell_type": "code",
   "execution_count": 5,
   "metadata": {},
   "outputs": [
    {
     "data": {
      "text/plain": [
       "'http://localhost:8080/api/events/12'"
      ]
     },
     "execution_count": 5,
     "metadata": {},
     "output_type": "execute_result"
    }
   ],
   "source": [
    "import requests\n",
    "path = \"/api/events/12\"\n",
    "base_url='http://localhost:8080'\n",
    "endpoint = f\"{base_url}{path}\"\n",
    "endpoint"
   ]
  },
  {
   "cell_type": "code",
   "execution_count": 6,
   "metadata": {},
   "outputs": [],
   "source": [
    "data = {\"page\":\"/test+\"}\n"
   ]
  },
  {
   "cell_type": "code",
   "execution_count": 7,
   "metadata": {},
   "outputs": [
    {
     "name": "stdout",
     "output_type": "stream",
     "text": [
      "{'date': 'Sun, 30 Mar 2025 07:34:05 GMT', 'server': 'uvicorn', 'content-length': '9', 'content-type': 'application/json'}\n",
      "200\n",
      "{'id': 12}\n",
      "{\"id\":12}\n"
     ]
    }
   ],
   "source": [
    "headers= {'Content-Type': 'application/json'}\n",
    "response = requests.put(endpoint, json={\"description\":\"hello world\"}) # POST request\n",
    "print(response.headers)\n",
    "print(response.status_code)\n",
    "# print(response.dir)\n",
    "print(response.json())\n",
    "print(response.text)\n"
   ]
  }
 ],
 "metadata": {
  "kernelspec": {
   "display_name": "venv",
   "language": "python",
   "name": "python3"
  },
  "language_info": {
   "codemirror_mode": {
    "name": "ipython",
    "version": 3
   },
   "file_extension": ".py",
   "mimetype": "text/x-python",
   "name": "python",
   "nbconvert_exporter": "python",
   "pygments_lexer": "ipython3",
   "version": "3.13.2"
  }
 },
 "nbformat": 4,
 "nbformat_minor": 2
}
