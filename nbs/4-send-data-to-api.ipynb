{
 "cells": [
  {
   "cell_type": "code",
   "execution_count": 31,
   "metadata": {},
   "outputs": [],
   "source": [
    "import requests"
   ]
  },
  {
   "cell_type": "code",
   "execution_count": 32,
   "metadata": {},
   "outputs": [
    {
     "name": "stdout",
     "output_type": "stream",
     "text": [
      "{'date': 'Sun, 30 Mar 2025 07:59:34 GMT', 'server': 'uvicorn', 'content-length': '57', 'content-type': 'application/json'}\n",
      "200\n",
      "{'id': 123, 'page': '/test+', 'description': 'my description'} <class 'dict'>\n",
      "{\"id\":123,\"page\":\"/test+\",\"description\":\"my description\"}\n"
     ]
    }
   ],
   "source": [
    "path = \"/api/events\"\n",
    "base_url='http://localhost:8080'\n",
    "endpoint = f\"{base_url}{path}\"\n",
    "endpoint\n",
    "\n",
    "response = requests.post(endpoint, json={\"page\":\"/test+\"}) # POST request\n",
    "print(response.headers)\n",
    "print(response.status_code)\n",
    "# print(response.dir)\n",
    "# print(response.json())\n",
    "data = response.json()\n",
    "print (data, type(data))\n",
    "print(response.text)\n"
   ]
  }
 ],
 "metadata": {
  "kernelspec": {
   "display_name": "venv",
   "language": "python",
   "name": "python3"
  },
  "language_info": {
   "codemirror_mode": {
    "name": "ipython",
    "version": 3
   },
   "file_extension": ".py",
   "mimetype": "text/x-python",
   "name": "python",
   "nbconvert_exporter": "python",
   "pygments_lexer": "ipython3",
   "version": "3.13.2"
  }
 },
 "nbformat": 4,
 "nbformat_minor": 2
}
